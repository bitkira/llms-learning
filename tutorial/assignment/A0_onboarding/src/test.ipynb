{
 "cells": [
  {
   "cell_type": "code",
   "execution_count": null,
   "metadata": {},
   "outputs": [],
   "source": [
    "\n",
    "\n",
    "import torch"
   ]
  },
  {
   "cell_type": "code",
   "execution_count": null,
   "metadata": {},
   "outputs": [
    {
     "data": {
      "text/plain": [
       "tensor([0, 1, 2])"
      ]
     },
     "execution_count": 18,
     "metadata": {},
     "output_type": "execute_result"
    }
   ],
   "source": [
    "\n",
    "torch.where((torch.tensor([0.5,0.6,0.3,0.1,0.1])>0.2))[0].tolo"
   ]
  },
  {
   "cell_type": "code",
   "execution_count": 25,
   "metadata": {},
   "outputs": [],
   "source": [
    "a =[0.5,0.6,0.3,0.1,0.1]\n",
    "b =  [0.2,0.1,0.5,0.5]"
   ]
  },
  {
   "cell_type": "code",
   "execution_count": 78,
   "metadata": {},
   "outputs": [],
   "source": [
    "probs  = torch.rand((4,6,3))"
   ]
  },
  {
   "cell_type": "code",
   "execution_count": 79,
   "metadata": {},
   "outputs": [
    {
     "data": {
      "text/plain": [
       "tensor([[[0.6185, 0.7288, 0.2398],\n",
       "         [0.7009, 0.9130, 0.7323],\n",
       "         [0.2404, 0.2734, 0.2596],\n",
       "         [0.2148, 0.9736, 0.7032],\n",
       "         [0.9486, 0.1498, 0.6778],\n",
       "         [0.3001, 0.2628, 0.3610]],\n",
       "\n",
       "        [[0.5326, 0.6760, 0.0292],\n",
       "         [0.1836, 0.0301, 0.7603],\n",
       "         [0.3950, 0.4179, 0.4796],\n",
       "         [0.4680, 0.2768, 0.8559],\n",
       "         [0.5601, 0.2524, 0.3995],\n",
       "         [0.4313, 0.5117, 0.2295]],\n",
       "\n",
       "        [[0.4894, 0.0992, 0.7817],\n",
       "         [0.3864, 0.0540, 0.9232],\n",
       "         [0.7317, 0.0743, 0.5408],\n",
       "         [0.3922, 0.2321, 0.6779],\n",
       "         [0.9343, 0.5977, 0.8387],\n",
       "         [0.4402, 0.2964, 0.3840]],\n",
       "\n",
       "        [[0.5446, 0.2152, 0.6317],\n",
       "         [0.0290, 0.7705, 0.4352],\n",
       "         [0.6312, 0.6371, 0.4633],\n",
       "         [0.1592, 0.9377, 0.5351],\n",
       "         [0.5350, 0.9971, 0.2192],\n",
       "         [0.4049, 0.7985, 0.1556]]])"
      ]
     },
     "execution_count": 79,
     "metadata": {},
     "output_type": "execute_result"
    }
   ],
   "source": [
    "probs"
   ]
  },
  {
   "cell_type": "code",
   "execution_count": 82,
   "metadata": {},
   "outputs": [
    {
     "data": {
      "text/plain": [
       "tensor([[[0.6185, 0.7288, 0.2398],\n",
       "         [0.7009, 0.9130, 0.7323],\n",
       "         [0.9486, 0.1498, 0.6778]],\n",
       "\n",
       "        [[0.5326, 0.6760, 0.0292],\n",
       "         [0.1836, 0.0301, 0.7603],\n",
       "         [0.5601, 0.2524, 0.3995]],\n",
       "\n",
       "        [[0.4894, 0.0992, 0.7817],\n",
       "         [0.3864, 0.0540, 0.9232],\n",
       "         [0.9343, 0.5977, 0.8387]],\n",
       "\n",
       "        [[0.5446, 0.2152, 0.6317],\n",
       "         [0.0290, 0.7705, 0.4352],\n",
       "         [0.5350, 0.9971, 0.2192]]])"
      ]
     },
     "execution_count": 82,
     "metadata": {},
     "output_type": "execute_result"
    }
   ],
   "source": [
    "probs[:,[True,True,False,False,True,False],:]"
   ]
  },
  {
   "cell_type": "code",
   "execution_count": 76,
   "metadata": {},
   "outputs": [
    {
     "ename": "SyntaxError",
     "evalue": "invalid syntax (318772729.py, line 1)",
     "output_type": "error",
     "traceback": [
      "  \u001b[36mCell\u001b[39m\u001b[36m \u001b[39m\u001b[32mIn[76]\u001b[39m\u001b[32m, line 1\u001b[39m\n\u001b[31m    \u001b[39m\u001b[31mprobs[]\u001b[39m\n          ^\n\u001b[31mSyntaxError\u001b[39m\u001b[31m:\u001b[39m invalid syntax\n"
     ]
    }
   ],
   "source": [
    "probs[]"
   ]
  },
  {
   "cell_type": "code",
   "execution_count": 59,
   "metadata": {},
   "outputs": [
    {
     "data": {
      "text/plain": [
       "tensor([[0.4854, 0.8016, 0.7681, 0.5763, 0.7428, 0.1085],\n",
       "        [0.8612, 0.0792, 0.8064, 0.4573, 0.9792, 0.4687],\n",
       "        [0.7405, 0.4843, 0.7568, 0.6274, 0.9357, 0.2981],\n",
       "        [0.4989, 0.6844, 0.8742, 0.5287, 0.3607, 0.4880]])"
      ]
     },
     "execution_count": 59,
     "metadata": {},
     "output_type": "execute_result"
    }
   ],
   "source": [
    "probs"
   ]
  },
  {
   "cell_type": "code",
   "execution_count": 60,
   "metadata": {},
   "outputs": [
    {
     "data": {
      "text/plain": [
       "4"
      ]
     },
     "execution_count": 60,
     "metadata": {},
     "output_type": "execute_result"
    }
   ],
   "source": [
    "probs.shape[0]"
   ]
  },
  {
   "cell_type": "code",
   "execution_count": 61,
   "metadata": {},
   "outputs": [],
   "source": [
    "t_index = []"
   ]
  },
  {
   "cell_type": "code",
   "execution_count": 62,
   "metadata": {},
   "outputs": [],
   "source": [
    "for i in range(probs.shape[0]):\n",
    "    t_index.append(list(set(probs[i].topk(3).indices.tolist()) & set(torch.where(probs[i]>0.8)[0].tolist())))\n"
   ]
  },
  {
   "cell_type": "code",
   "execution_count": 63,
   "metadata": {},
   "outputs": [
    {
     "data": {
      "text/plain": [
       "[[1], [0, 2, 4], [4], [2]]"
      ]
     },
     "execution_count": 63,
     "metadata": {},
     "output_type": "execute_result"
    }
   ],
   "source": [
    "t_index"
   ]
  },
  {
   "cell_type": "code",
   "execution_count": null,
   "metadata": {},
   "outputs": [
    {
     "data": {
      "text/plain": [
       "[[3, 0, 5], [2, 5, 1], [4, 3, 5], [3, 2, 4]]"
      ]
     },
     "execution_count": 36,
     "metadata": {},
     "output_type": "execute_result"
    }
   ],
   "source": [
    "probs.topk(3).indices.tolist()"
   ]
  },
  {
   "cell_type": "code",
   "execution_count": 83,
   "metadata": {},
   "outputs": [],
   "source": [
    "top_k=4\n",
    "top_p=0.44"
   ]
  },
  {
   "cell_type": "code",
   "execution_count": 90,
   "metadata": {},
   "outputs": [
    {
     "data": {
      "text/plain": [
       "tensor([[0.4718, 0.7627, 0.1028, 0.6829, 0.7008, 0.4306, 0.9011, 0.6310, 0.8286,\n",
       "         0.5866],\n",
       "        [0.8487, 0.8287, 0.1724, 0.2686, 0.3664, 0.4742, 0.6294, 0.1582, 0.5105,\n",
       "         0.2058],\n",
       "        [0.8205, 0.2445, 0.4401, 0.4883, 0.2959, 0.5463, 0.0580, 0.5475, 0.8959,\n",
       "         0.9652],\n",
       "        [0.8909, 0.3214, 0.0567, 0.4232, 0.8666, 0.3039, 0.9832, 0.3146, 0.2329,\n",
       "         0.0129]])"
      ]
     },
     "execution_count": 90,
     "metadata": {},
     "output_type": "execute_result"
    }
   ],
   "source": [
    "input = torch.rand(4,10)\n",
    "input"
   ]
  },
  {
   "cell_type": "code",
   "execution_count": 91,
   "metadata": {},
   "outputs": [
    {
     "data": {
      "text/plain": [
       "tensor([[0.3795, 0.5996, 0.4773, 0.8309, 0.6507],\n",
       "        [0.6376, 0.8686, 0.5289, 0.4131, 0.6857],\n",
       "        [0.1437, 0.0103, 0.0287, 0.8736, 0.4511],\n",
       "        [0.7975, 0.4321, 0.0290, 0.6629, 0.8807]])"
      ]
     },
     "execution_count": 91,
     "metadata": {},
     "output_type": "execute_result"
    }
   ],
   "source": [
    "probs =  torch.rand(4,5)\n",
    "probs"
   ]
  },
  {
   "cell_type": "code",
   "execution_count": 94,
   "metadata": {},
   "outputs": [
    {
     "ename": "RuntimeError",
     "evalue": "Sizes of tensors must match except in dimension 0. Expected size 5 but got size 10 for tensor number 1 in the list.",
     "output_type": "error",
     "traceback": [
      "\u001b[31m---------------------------------------------------------------------------\u001b[39m",
      "\u001b[31mRuntimeError\u001b[39m                              Traceback (most recent call last)",
      "\u001b[36mCell\u001b[39m\u001b[36m \u001b[39m\u001b[32mIn[94]\u001b[39m\u001b[32m, line 1\u001b[39m\n\u001b[32m----> \u001b[39m\u001b[32m1\u001b[39m \u001b[43mtorch\u001b[49m\u001b[43m.\u001b[49m\u001b[43mcat\u001b[49m\u001b[43m(\u001b[49m\u001b[43m[\u001b[49m\u001b[43mprobs\u001b[49m\u001b[43m,\u001b[49m\u001b[43m \u001b[49m\u001b[38;5;28;43minput\u001b[39;49m\u001b[43m]\u001b[49m\u001b[43m,\u001b[49m\u001b[43m \u001b[49m\u001b[43mdim\u001b[49m\u001b[43m=\u001b[49m\u001b[32;43m0\u001b[39;49m\u001b[43m)\u001b[49m\n",
      "\u001b[31mRuntimeError\u001b[39m: Sizes of tensors must match except in dimension 0. Expected size 5 but got size 10 for tensor number 1 in the list."
     ]
    }
   ],
   "source": [
    "torch.cat([probs, input], dim=0)"
   ]
  },
  {
   "cell_type": "code",
   "execution_count": null,
   "metadata": {},
   "outputs": [],
   "source": [
    "torch.stack\n",
    "for i in range(probs.shape[0]):\n",
    "    T_input = input[i, list(set(probs[i].topk(top_k).indices.tolist()) & set(torch.where(probs[i]>top_p)[0].tolist())), :]"
   ]
  }
 ],
 "metadata": {
  "kernelspec": {
   "display_name": "MacPytorch",
   "language": "python",
   "name": "python3"
  },
  "language_info": {
   "codemirror_mode": {
    "name": "ipython",
    "version": 3
   },
   "file_extension": ".py",
   "mimetype": "text/x-python",
   "name": "python",
   "nbconvert_exporter": "python",
   "pygments_lexer": "ipython3",
   "version": "3.12.9"
  }
 },
 "nbformat": 4,
 "nbformat_minor": 2
}
