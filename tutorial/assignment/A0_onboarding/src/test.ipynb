{
 "cells": [
  {
   "cell_type": "code",
   "execution_count": null,
   "metadata": {},
   "outputs": [],
   "source": [
    "\n",
    "\n",
    "import torch"
   ]
  },
  {
   "cell_type": "code",
   "execution_count": null,
   "metadata": {},
   "outputs": [
    {
     "data": {
      "text/plain": [
       "tensor([0, 1, 2])"
      ]
     },
     "execution_count": 18,
     "metadata": {},
     "output_type": "execute_result"
    }
   ],
   "source": [
    "\n",
    "torch.where((torch.tensor([0.5,0.6,0.3,0.1,0.1])>0.2))[0].tolo"
   ]
  },
  {
   "cell_type": "code",
   "execution_count": 25,
   "metadata": {},
   "outputs": [],
   "source": [
    "a =[0.5,0.6,0.3,0.1,0.1]\n",
    "b =  [0.2,0.1,0.5,0.5]"
   ]
  },
  {
   "cell_type": "code",
   "execution_count": 78,
   "metadata": {},
   "outputs": [],
   "source": [
    "probs  = torch.rand((4,6,3))"
   ]
  },
  {
   "cell_type": "code",
   "execution_count": 79,
   "metadata": {},
   "outputs": [
    {
     "data": {
      "text/plain": [
       "tensor([[[0.6185, 0.7288, 0.2398],\n",
       "         [0.7009, 0.9130, 0.7323],\n",
       "         [0.2404, 0.2734, 0.2596],\n",
       "         [0.2148, 0.9736, 0.7032],\n",
       "         [0.9486, 0.1498, 0.6778],\n",
       "         [0.3001, 0.2628, 0.3610]],\n",
       "\n",
       "        [[0.5326, 0.6760, 0.0292],\n",
       "         [0.1836, 0.0301, 0.7603],\n",
       "         [0.3950, 0.4179, 0.4796],\n",
       "         [0.4680, 0.2768, 0.8559],\n",
       "         [0.5601, 0.2524, 0.3995],\n",
       "         [0.4313, 0.5117, 0.2295]],\n",
       "\n",
       "        [[0.4894, 0.0992, 0.7817],\n",
       "         [0.3864, 0.0540, 0.9232],\n",
       "         [0.7317, 0.0743, 0.5408],\n",
       "         [0.3922, 0.2321, 0.6779],\n",
       "         [0.9343, 0.5977, 0.8387],\n",
       "         [0.4402, 0.2964, 0.3840]],\n",
       "\n",
       "        [[0.5446, 0.2152, 0.6317],\n",
       "         [0.0290, 0.7705, 0.4352],\n",
       "         [0.6312, 0.6371, 0.4633],\n",
       "         [0.1592, 0.9377, 0.5351],\n",
       "         [0.5350, 0.9971, 0.2192],\n",
       "         [0.4049, 0.7985, 0.1556]]])"
      ]
     },
     "execution_count": 79,
     "metadata": {},
     "output_type": "execute_result"
    }
   ],
   "source": [
    "probs"
   ]
  },
  {
   "cell_type": "code",
   "execution_count": 82,
   "metadata": {},
   "outputs": [
    {
     "data": {
      "text/plain": [
       "tensor([[[0.6185, 0.7288, 0.2398],\n",
       "         [0.7009, 0.9130, 0.7323],\n",
       "         [0.9486, 0.1498, 0.6778]],\n",
       "\n",
       "        [[0.5326, 0.6760, 0.0292],\n",
       "         [0.1836, 0.0301, 0.7603],\n",
       "         [0.5601, 0.2524, 0.3995]],\n",
       "\n",
       "        [[0.4894, 0.0992, 0.7817],\n",
       "         [0.3864, 0.0540, 0.9232],\n",
       "         [0.9343, 0.5977, 0.8387]],\n",
       "\n",
       "        [[0.5446, 0.2152, 0.6317],\n",
       "         [0.0290, 0.7705, 0.4352],\n",
       "         [0.5350, 0.9971, 0.2192]]])"
      ]
     },
     "execution_count": 82,
     "metadata": {},
     "output_type": "execute_result"
    }
   ],
   "source": [
    "probs[:,[True,True,False,False,True,False],:]"
   ]
  },
  {
   "cell_type": "code",
   "execution_count": 76,
   "metadata": {},
   "outputs": [
    {
     "ename": "SyntaxError",
     "evalue": "invalid syntax (318772729.py, line 1)",
     "output_type": "error",
     "traceback": [
      "  \u001b[36mCell\u001b[39m\u001b[36m \u001b[39m\u001b[32mIn[76]\u001b[39m\u001b[32m, line 1\u001b[39m\n\u001b[31m    \u001b[39m\u001b[31mprobs[]\u001b[39m\n          ^\n\u001b[31mSyntaxError\u001b[39m\u001b[31m:\u001b[39m invalid syntax\n"
     ]
    }
   ],
   "source": [
    "probs[]"
   ]
  },
  {
   "cell_type": "code",
   "execution_count": 59,
   "metadata": {},
   "outputs": [
    {
     "data": {
      "text/plain": [
       "tensor([[0.4854, 0.8016, 0.7681, 0.5763, 0.7428, 0.1085],\n",
       "        [0.8612, 0.0792, 0.8064, 0.4573, 0.9792, 0.4687],\n",
       "        [0.7405, 0.4843, 0.7568, 0.6274, 0.9357, 0.2981],\n",
       "        [0.4989, 0.6844, 0.8742, 0.5287, 0.3607, 0.4880]])"
      ]
     },
     "execution_count": 59,
     "metadata": {},
     "output_type": "execute_result"
    }
   ],
   "source": [
    "probs"
   ]
  },
  {
   "cell_type": "code",
   "execution_count": 60,
   "metadata": {},
   "outputs": [
    {
     "data": {
      "text/plain": [
       "4"
      ]
     },
     "execution_count": 60,
     "metadata": {},
     "output_type": "execute_result"
    }
   ],
   "source": [
    "probs.shape[0]"
   ]
  },
  {
   "cell_type": "code",
   "execution_count": 61,
   "metadata": {},
   "outputs": [],
   "source": [
    "t_index = []"
   ]
  },
  {
   "cell_type": "code",
   "execution_count": 62,
   "metadata": {},
   "outputs": [],
   "source": [
    "for i in range(probs.shape[0]):\n",
    "    t_index.append(list(set(probs[i].topk(3).indices.tolist()) & set(torch.where(probs[i]>0.8)[0].tolist())))\n"
   ]
  },
  {
   "cell_type": "code",
   "execution_count": 63,
   "metadata": {},
   "outputs": [
    {
     "data": {
      "text/plain": [
       "[[1], [0, 2, 4], [4], [2]]"
      ]
     },
     "execution_count": 63,
     "metadata": {},
     "output_type": "execute_result"
    }
   ],
   "source": [
    "t_index"
   ]
  },
  {
   "cell_type": "code",
   "execution_count": null,
   "metadata": {},
   "outputs": [
    {
     "data": {
      "text/plain": [
       "[[3, 0, 5], [2, 5, 1], [4, 3, 5], [3, 2, 4]]"
      ]
     },
     "execution_count": 36,
     "metadata": {},
     "output_type": "execute_result"
    }
   ],
   "source": [
    "probs.topk(3).indices.tolist()"
   ]
  },
  {
   "cell_type": "code",
   "execution_count": 83,
   "metadata": {},
   "outputs": [],
   "source": [
    "top_k=4\n",
    "top_p=0.44"
   ]
  },
  {
   "cell_type": "code",
   "execution_count": 90,
   "metadata": {},
   "outputs": [
    {
     "data": {
      "text/plain": [
       "tensor([[0.4718, 0.7627, 0.1028, 0.6829, 0.7008, 0.4306, 0.9011, 0.6310, 0.8286,\n",
       "         0.5866],\n",
       "        [0.8487, 0.8287, 0.1724, 0.2686, 0.3664, 0.4742, 0.6294, 0.1582, 0.5105,\n",
       "         0.2058],\n",
       "        [0.8205, 0.2445, 0.4401, 0.4883, 0.2959, 0.5463, 0.0580, 0.5475, 0.8959,\n",
       "         0.9652],\n",
       "        [0.8909, 0.3214, 0.0567, 0.4232, 0.8666, 0.3039, 0.9832, 0.3146, 0.2329,\n",
       "         0.0129]])"
      ]
     },
     "execution_count": 90,
     "metadata": {},
     "output_type": "execute_result"
    }
   ],
   "source": [
    "input = torch.rand(4,10)\n",
    "input"
   ]
  },
  {
   "cell_type": "code",
   "execution_count": 91,
   "metadata": {},
   "outputs": [
    {
     "data": {
      "text/plain": [
       "tensor([[0.3795, 0.5996, 0.4773, 0.8309, 0.6507],\n",
       "        [0.6376, 0.8686, 0.5289, 0.4131, 0.6857],\n",
       "        [0.1437, 0.0103, 0.0287, 0.8736, 0.4511],\n",
       "        [0.7975, 0.4321, 0.0290, 0.6629, 0.8807]])"
      ]
     },
     "execution_count": 91,
     "metadata": {},
     "output_type": "execute_result"
    }
   ],
   "source": [
    "probs =  torch.rand(4,5)\n",
    "probs"
   ]
  },
  {
   "cell_type": "code",
   "execution_count": 94,
   "metadata": {},
   "outputs": [
    {
     "ename": "RuntimeError",
     "evalue": "Sizes of tensors must match except in dimension 0. Expected size 5 but got size 10 for tensor number 1 in the list.",
     "output_type": "error",
     "traceback": [
      "\u001b[31m---------------------------------------------------------------------------\u001b[39m",
      "\u001b[31mRuntimeError\u001b[39m                              Traceback (most recent call last)",
      "\u001b[36mCell\u001b[39m\u001b[36m \u001b[39m\u001b[32mIn[94]\u001b[39m\u001b[32m, line 1\u001b[39m\n\u001b[32m----> \u001b[39m\u001b[32m1\u001b[39m \u001b[43mtorch\u001b[49m\u001b[43m.\u001b[49m\u001b[43mcat\u001b[49m\u001b[43m(\u001b[49m\u001b[43m[\u001b[49m\u001b[43mprobs\u001b[49m\u001b[43m,\u001b[49m\u001b[43m \u001b[49m\u001b[38;5;28;43minput\u001b[39;49m\u001b[43m]\u001b[49m\u001b[43m,\u001b[49m\u001b[43m \u001b[49m\u001b[43mdim\u001b[49m\u001b[43m=\u001b[49m\u001b[32;43m0\u001b[39;49m\u001b[43m)\u001b[49m\n",
      "\u001b[31mRuntimeError\u001b[39m: Sizes of tensors must match except in dimension 0. Expected size 5 but got size 10 for tensor number 1 in the list."
     ]
    }
   ],
   "source": [
    "torch.cat([probs, input], dim=0)"
   ]
  },
  {
   "cell_type": "code",
   "execution_count": 2,
   "metadata": {},
   "outputs": [],
   "source": [
    "import torch"
   ]
  },
  {
   "cell_type": "code",
   "execution_count": 6,
   "metadata": {},
   "outputs": [
    {
     "data": {
      "text/plain": [
       "tensor([[[0.2401, 0.1644, 0.2737, 0.8294, 0.9236],\n",
       "         [0.7138, 0.6151, 0.5161, 0.4204, 0.6970],\n",
       "         [0.3435, 0.1412, 0.8848, 0.6534, 0.0099],\n",
       "         [0.4525, 0.8536, 0.2920, 0.2695, 0.2196]],\n",
       "\n",
       "        [[0.0451, 0.4182, 0.4266, 0.2169, 0.5508],\n",
       "         [0.2618, 0.0512, 0.7138, 0.3143, 0.6830],\n",
       "         [0.0033, 0.1513, 0.9564, 0.6689, 0.8202],\n",
       "         [0.5793, 0.9369, 0.5686, 0.4347, 0.1702]],\n",
       "\n",
       "        [[0.3093, 0.0196, 0.9611, 0.4234, 0.8789],\n",
       "         [0.7472, 0.4488, 0.7151, 0.3405, 0.5108],\n",
       "         [0.7340, 0.1809, 0.7453, 0.5779, 0.4780],\n",
       "         [0.8406, 0.9627, 0.9879, 0.4560, 0.0286]],\n",
       "\n",
       "        [[0.0158, 0.0327, 0.1231, 0.5465, 0.2570],\n",
       "         [0.4393, 0.8853, 0.4639, 0.7628, 0.5805],\n",
       "         [0.1462, 0.9114, 0.7590, 0.3967, 0.8761],\n",
       "         [0.9251, 0.8028, 0.6100, 0.0841, 0.3723]]])"
      ]
     },
     "execution_count": 6,
     "metadata": {},
     "output_type": "execute_result"
    }
   ],
   "source": [
    "A1 = torch.rand((4,4,5))\n",
    "A1 "
   ]
  },
  {
   "cell_type": "code",
   "execution_count": 5,
   "metadata": {},
   "outputs": [
    {
     "data": {
      "text/plain": [
       "tensor([[0.2424, 0.4696, 0.5665, 0.8987, 0.4447, 0.9128, 0.1825, 0.7266],\n",
       "        [0.1279, 0.1244, 0.7261, 0.6257, 0.2772, 0.0330, 0.9556, 0.4892],\n",
       "        [0.0318, 0.5170, 0.1989, 0.3032, 0.2243, 0.9698, 0.2876, 0.3916],\n",
       "        [0.9605, 0.4734, 0.3125, 0.2945, 0.1490, 0.5560, 0.4458, 0.8436],\n",
       "        [0.4869, 0.0784, 0.2158, 0.1179, 0.9149, 0.4963, 0.6837, 0.9206]])"
      ]
     },
     "execution_count": 5,
     "metadata": {},
     "output_type": "execute_result"
    }
   ],
   "source": [
    "W1 = torch.rand((5,8))\n",
    "W1 "
   ]
  },
  {
   "cell_type": "code",
   "execution_count": 8,
   "metadata": {},
   "outputs": [
    {
     "data": {
      "text/plain": [
       "torch.Size([4, 4, 8])"
      ]
     },
     "execution_count": 8,
     "metadata": {},
     "output_type": "execute_result"
    }
   ],
   "source": [
    "O1 = torch.einsum('bsh,he->bse',A1,W1)\n",
    "O1.shape"
   ]
  },
  {
   "cell_type": "code",
   "execution_count": 11,
   "metadata": {},
   "outputs": [
    {
     "data": {
      "text/plain": [
       "tensor([[[[0.6440, 0.4123, 0.7863, 0.3392, 0.5438, 0.4703],\n",
       "          [0.4157, 0.1365, 0.2024, 0.2490, 0.0709, 0.1560],\n",
       "          [0.1981, 0.2367, 0.0307, 0.6474, 0.8140, 0.6256],\n",
       "          [0.4430, 0.4911, 0.0702, 0.0985, 0.0083, 0.6785],\n",
       "          [0.9494, 0.0321, 0.4218, 0.3278, 0.8746, 0.9816]],\n",
       "\n",
       "         [[0.7489, 0.7357, 0.0583, 0.2438, 0.3030, 0.3543],\n",
       "          [0.7547, 0.4958, 0.1374, 0.1456, 0.5002, 0.8504],\n",
       "          [0.6448, 0.3692, 0.3396, 0.1664, 0.2948, 0.1767],\n",
       "          [0.2943, 0.3341, 0.1520, 0.7814, 0.6709, 0.4692],\n",
       "          [0.0113, 0.8544, 0.7069, 0.8553, 0.3395, 0.1499]]],\n",
       "\n",
       "\n",
       "        [[[0.3165, 0.7993, 0.3375, 0.3799, 0.6874, 0.6277],\n",
       "          [0.5842, 0.7782, 0.1043, 0.4746, 0.9089, 0.8649],\n",
       "          [0.0511, 0.2676, 0.9178, 0.7082, 0.9381, 0.1592],\n",
       "          [0.9879, 0.2747, 0.9171, 0.4386, 0.9731, 0.6427],\n",
       "          [0.0582, 0.1416, 0.7605, 0.2959, 0.6163, 0.2472]],\n",
       "\n",
       "         [[0.7904, 0.4796, 0.8276, 0.9027, 0.3291, 0.9490],\n",
       "          [0.2071, 0.4215, 0.1324, 0.3565, 0.3790, 0.1611],\n",
       "          [0.6234, 0.4414, 0.0451, 0.4562, 0.5943, 0.2398],\n",
       "          [0.6162, 0.6117, 0.7838, 0.5024, 0.4469, 0.7346],\n",
       "          [0.2525, 0.5220, 0.5698, 0.1450, 0.2019, 0.4530]]]])"
      ]
     },
     "execution_count": 11,
     "metadata": {},
     "output_type": "execute_result"
    }
   ],
   "source": [
    "O2 = torch.rand((2,2,5,6))\n",
    "O2"
   ]
  },
  {
   "cell_type": "code",
   "execution_count": 19,
   "metadata": {},
   "outputs": [
    {
     "data": {
      "text/plain": [
       "tensor([[[0.6440, 0.4123, 0.7863, 0.3392, 0.5438, 0.4703],\n",
       "         [0.4157, 0.1365, 0.2024, 0.2490, 0.0709, 0.1560],\n",
       "         [0.1981, 0.2367, 0.0307, 0.6474, 0.8140, 0.6256],\n",
       "         [0.4430, 0.4911, 0.0702, 0.0985, 0.0083, 0.6785],\n",
       "         [0.9494, 0.0321, 0.4218, 0.3278, 0.8746, 0.9816]],\n",
       "\n",
       "        [[0.7489, 0.7357, 0.0583, 0.2438, 0.3030, 0.3543],\n",
       "         [0.7547, 0.4958, 0.1374, 0.1456, 0.5002, 0.8504],\n",
       "         [0.6448, 0.3692, 0.3396, 0.1664, 0.2948, 0.1767],\n",
       "         [0.2943, 0.3341, 0.1520, 0.7814, 0.6709, 0.4692],\n",
       "         [0.0113, 0.8544, 0.7069, 0.8553, 0.3395, 0.1499]],\n",
       "\n",
       "        [[0.3165, 0.7993, 0.3375, 0.3799, 0.6874, 0.6277],\n",
       "         [0.5842, 0.7782, 0.1043, 0.4746, 0.9089, 0.8649],\n",
       "         [0.0511, 0.2676, 0.9178, 0.7082, 0.9381, 0.1592],\n",
       "         [0.9879, 0.2747, 0.9171, 0.4386, 0.9731, 0.6427],\n",
       "         [0.0582, 0.1416, 0.7605, 0.2959, 0.6163, 0.2472]],\n",
       "\n",
       "        [[0.7904, 0.4796, 0.8276, 0.9027, 0.3291, 0.9490],\n",
       "         [0.2071, 0.4215, 0.1324, 0.3565, 0.3790, 0.1611],\n",
       "         [0.6234, 0.4414, 0.0451, 0.4562, 0.5943, 0.2398],\n",
       "         [0.6162, 0.6117, 0.7838, 0.5024, 0.4469, 0.7346],\n",
       "         [0.2525, 0.5220, 0.5698, 0.1450, 0.2019, 0.4530]]])"
      ]
     },
     "execution_count": 19,
     "metadata": {},
     "output_type": "execute_result"
    }
   ],
   "source": [
    "from einops import rearrange\n",
    "O3 = rearrange(O2,'b s n e -> (b s) n e')\n",
    "O3"
   ]
  },
  {
   "cell_type": "code",
   "execution_count": 2,
   "metadata": {},
   "outputs": [
    {
     "data": {
      "text/plain": [
       "<MLPActivationType.SILU: 'silu'>"
      ]
     },
     "execution_count": 2,
     "metadata": {},
     "output_type": "execute_result"
    }
   ],
   "source": [
    "from enum import Enum\n",
    "\n",
    "class MLPActivationType(Enum):\n",
    "    RELU = \"relu\"\n",
    "    GELU = \"gelu\"\n",
    "    SILU = \"silu\"\n",
    "    SIGMOID = \"sigmoid\"\n",
    "    BILINEAR = \"bilinear\"\n",
    "\n",
    "\n",
    "MLPActivationType.SILU"
   ]
  },
  {
   "cell_type": "code",
   "execution_count": 3,
   "metadata": {},
   "outputs": [],
   "source": [
    "import torch.nn as nn"
   ]
  },
  {
   "cell_type": "code",
   "execution_count": 7,
   "metadata": {},
   "outputs": [],
   "source": [
    "activation_map = {\n",
    "        1: nn.SiLU(),\n",
    "        \"2\": nn.ReLU(),\n",
    "        MLPActivationType.GELU: nn.GELU(),\n",
    "        MLPActivationType.SIGMOID: nn.Sigmoid(),\n",
    "        MLPActivationType.BILINEAR: nn.Identity()\n",
    "        }"
   ]
  },
  {
   "cell_type": "code",
   "execution_count": null,
   "metadata": {},
   "outputs": [
    {
     "ename": "KeyError",
     "evalue": "'activation_type'",
     "output_type": "error",
     "traceback": [
      "\u001b[31m---------------------------------------------------------------------------\u001b[39m",
      "\u001b[31mKeyError\u001b[39m                                  Traceback (most recent call last)",
      "\u001b[36mCell\u001b[39m\u001b[36m \u001b[39m\u001b[32mIn[6]\u001b[39m\u001b[32m, line 10\u001b[39m\n\u001b[32m      1\u001b[39m activation_map = {\n\u001b[32m      2\u001b[39m         MLPActivationType.SILU: nn.SiLU(),\n\u001b[32m      3\u001b[39m         MLPActivationType.RELU: nn.ReLU(),\n\u001b[32m   (...)\u001b[39m\u001b[32m      6\u001b[39m         MLPActivationType.BILINEAR: nn.Identity()\n\u001b[32m      7\u001b[39m         }\n\u001b[32m      8\u001b[39m activation_type = MLPActivationType.BILINEAR\n\u001b[32m---> \u001b[39m\u001b[32m10\u001b[39m Activation = \u001b[43mactivation_map\u001b[49m\u001b[43m[\u001b[49m\u001b[33;43m\"\u001b[39;49m\u001b[33;43mactivation_type\u001b[39;49m\u001b[33;43m\"\u001b[39;49m\u001b[43m]\u001b[49m\n",
      "\u001b[31mKeyError\u001b[39m: 'activation_type'"
     ]
    }
   ],
   "source": [
    "activation_map = {\n",
    "        MLPActivationType.SILU: nn.SiLU(),\n",
    "        MLPActivationType.RELU: nn.ReLU(),\n",
    "        MLPActivationType.GELU: nn.GELU(),\n",
    "        MLPActivationType.SIGMOID: nn.Sigmoid(),\n",
    "        MLPActivationType.BILINEAR: nn.Identity()\n",
    "        }\n",
    "activation_type = MLPActivationType.BILINEAR\n",
    "\n"
   ]
  },
  {
   "cell_type": "code",
   "execution_count": 10,
   "metadata": {},
   "outputs": [
    {
     "data": {
      "text/plain": [
       "ReLU()"
      ]
     },
     "execution_count": 10,
     "metadata": {},
     "output_type": "execute_result"
    }
   ],
   "source": [
    "Activation = activation_map[\"2\"]\n",
    "Activation"
   ]
  },
  {
   "cell_type": "code",
   "execution_count": null,
   "metadata": {},
   "outputs": [],
   "source": []
  }
 ],
 "metadata": {
  "kernelspec": {
   "display_name": "MacPytorch",
   "language": "python",
   "name": "python3"
  },
  "language_info": {
   "codemirror_mode": {
    "name": "ipython",
    "version": 3
   },
   "file_extension": ".py",
   "mimetype": "text/x-python",
   "name": "python",
   "nbconvert_exporter": "python",
   "pygments_lexer": "ipython3",
   "version": "3.12.9"
  }
 },
 "nbformat": 4,
 "nbformat_minor": 2
}
